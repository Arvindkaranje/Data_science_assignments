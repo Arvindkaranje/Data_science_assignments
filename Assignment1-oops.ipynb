{
 "cells": [
  {
   "cell_type": "code",
   "execution_count": null,
   "id": "8bcbac88-9172-4a31-a191-9c4b9a1c6eac",
   "metadata": {
    "jupyter": {
     "source_hidden": true
    },
    "tags": []
   },
   "outputs": [
    {
     "name": "stdout",
     "output_type": "stream",
     "text": [
      "this class will give you a student details\n"
     ]
    }
   ],
   "source": [
    "krish.student_details()"
   ]
  },
  {
   "cell_type": "markdown",
   "id": "d7549e6e-d894-464c-9445-a51e17c1150c",
   "metadata": {},
   "source": [
    "Problem 1: Bank Account Create a class representing a bank account with attributes like account number, account holder name, and balance. Implement methods to deposit and withdraw money from the account.\n",
    "\n",
    "Problem 2: Employee Management Create a class representing an employee with attributes like employee ID, name, and salary. Implement methods to calculate the yearly bonus and display employee details.\n",
    "\n",
    "Problem 3: Vehicle Rental Create a class representing a vehicle rental system. Implement methods to rent a vehicle, return a vehicle, and display available vehicles.\n",
    "\n",
    "Problem 4: Library Catalog Create classes representing a library and a book. Implement methods to add books to the library, borrow books, and display available books.\n",
    "\n",
    "Problem 5: Product Inventory Create classes representing a product and an inventory system. Implement methods to add products to the inventory, update product quantity, and display available products.\n",
    "\n",
    "Problem 6: Shape Calculation Create a class representing a shape with attributes like length, width, and height. Implement methods to calculate the area and perimeter of the shape.\n",
    "\n",
    "Problem 7: Student Management Create a class representing a student with attributes like student ID, name, and grades. Implement methods to calculate the average grade and display student details.\n",
    "\n",
    "Problem 8: Email Management Create a class representing an email with attributes like sender, recipient, and subject. Implement methods to send an email and display email details.\n",
    "\n",
    "Problem 9: Social Media Profile Create a class representing a social media profile with attributes like username and posts. Implement methods to add posts, display posts, and search for posts by keyword.\n",
    "\n",
    "Problem 10: ToDo List Create a class representing a ToDo list with attributes like tasks and due dates. Implement methods to add tasks, mark tasks as completed, and display pending tasks."
   ]
  },
  {
   "cell_type": "markdown",
   "id": "c1a64d7d-25da-41ea-a22b-0aa3c3f6458d",
   "metadata": {},
   "source": [
    "# oops assignment solutions"
   ]
  },
  {
   "cell_type": "markdown",
   "id": "f5633bca-793e-4e7c-9c84-df7929d8f7f2",
   "metadata": {},
   "source": [
    "Problem 1: Bank Account Create a class representing a bank account with attributes like account number, account holder name, and balance. Implement methods to deposit and withdraw money from the account.\n"
   ]
  },
  {
   "cell_type": "code",
   "execution_count": 1,
   "id": "a4838d6b-c6da-4e34-be57-f14d81667146",
   "metadata": {},
   "outputs": [
    {
     "name": "stdout",
     "output_type": "stream",
     "text": [
      "Deposited $1000. New balance: $1000\n",
      "Withdrew $500. New balance: $500\n"
     ]
    }
   ],
   "source": [
    "class BankAccount:\n",
    "    def __init__(self, account_number, account_holder, balance=0):\n",
    "        self.account_number = account_number\n",
    "        self.account_holder = account_holder\n",
    "        self.balance = balance\n",
    "\n",
    "    def deposit(self, amount):\n",
    "        if amount > 0:\n",
    "            self.balance += amount\n",
    "            print(f\"Deposited ${amount}. New balance: ${self.balance}\")\n",
    "        else:\n",
    "            print(\"Invalid amount for deposit.\")\n",
    "\n",
    "    def withdraw(self, amount):\n",
    "        if 0 < amount <= self.balance:\n",
    "            self.balance -= amount\n",
    "            print(f\"Withdrew ${amount}. New balance: ${self.balance}\")\n",
    "        else:\n",
    "            print(\"Invalid amount for withdrawal or insufficient balance.\")\n",
    "\n",
    "# Example usage:\n",
    "account1 = BankAccount(\"123456\", \"John Doe\")\n",
    "account1.deposit(1000)\n",
    "account1.withdraw(500)\n"
   ]
  },
  {
   "cell_type": "markdown",
   "id": "e178fe06-d6e7-404c-a348-025fdafe887d",
   "metadata": {},
   "source": [
    "Problem 2: Employee Management Create a class representing an employee with attributes like employee ID, name, and salary. Implement methods to calculate the yearly bonus and display employee details."
   ]
  },
  {
   "cell_type": "code",
   "execution_count": 2,
   "id": "02849a96-b0ae-4d14-bbc9-08670ef5ae70",
   "metadata": {},
   "outputs": [
    {
     "name": "stdout",
     "output_type": "stream",
     "text": [
      "Yearly Bonus: $5000.0\n",
      "Employee ID: E123, Name: Alice, Salary: $50000\n"
     ]
    }
   ],
   "source": [
    "class Employee:\n",
    "    def __init__(self, employee_id, name, salary):\n",
    "        self.employee_id = employee_id\n",
    "        self.name = name\n",
    "        self.salary = salary\n",
    "\n",
    "    def calculate_yearly_bonus(self):\n",
    "        return 0.1 * self.salary  # Assume bonus is 10% of salary\n",
    "\n",
    "    def display_details(self):\n",
    "        print(f\"Employee ID: {self.employee_id}, Name: {self.name}, Salary: ${self.salary}\")\n",
    "\n",
    "# Example usage:\n",
    "employee1 = Employee(\"E123\", \"Alice\", 50000)\n",
    "print(f\"Yearly Bonus: ${employee1.calculate_yearly_bonus()}\")\n",
    "employee1.display_details()\n"
   ]
  },
  {
   "cell_type": "markdown",
   "id": "15a7c95b-1809-47d5-9d5e-b25bc110d1e3",
   "metadata": {},
   "source": [
    "Problem 3: Vehicle Rental Create a class representing a vehicle rental system. Implement methods to rent a vehicle, return a vehicle, and display available vehicles."
   ]
  },
  {
   "cell_type": "code",
   "execution_count": 3,
   "id": "553bacea-c050-45fc-a2ae-6ff2e4a26010",
   "metadata": {},
   "outputs": [
    {
     "name": "stdout",
     "output_type": "stream",
     "text": [
      "Available Vehicles: {'SUV', 'Car', 'Truck'}\n",
      "Vehicle Car rented.\n",
      "Available Vehicles: {'SUV', 'Truck'}\n",
      "Vehicle Car returned.\n",
      "Available Vehicles: {'SUV', 'Car', 'Truck'}\n"
     ]
    }
   ],
   "source": [
    "class VehicleRentalSystem:\n",
    "    def __init__(self):\n",
    "        self.available_vehicles = set()\n",
    "\n",
    "    def rent_vehicle(self, vehicle):\n",
    "        if vehicle in self.available_vehicles:\n",
    "            self.available_vehicles.remove(vehicle)\n",
    "            print(f\"Vehicle {vehicle} rented.\")\n",
    "        else:\n",
    "            print(\"Vehicle not available for rent.\")\n",
    "\n",
    "    def return_vehicle(self, vehicle):\n",
    "        self.available_vehicles.add(vehicle)\n",
    "        print(f\"Vehicle {vehicle} returned.\")\n",
    "\n",
    "    def display_available_vehicles(self):\n",
    "        print(\"Available Vehicles:\", self.available_vehicles)\n",
    "\n",
    "# Example usage:\n",
    "rental_system = VehicleRentalSystem()\n",
    "rental_system.available_vehicles = {\"Car\", \"Truck\", \"SUV\"}\n",
    "rental_system.display_available_vehicles()\n",
    "rental_system.rent_vehicle(\"Car\")\n",
    "rental_system.display_available_vehicles()\n",
    "rental_system.return_vehicle(\"Car\")\n",
    "rental_system.display_available_vehicles()\n"
   ]
  },
  {
   "cell_type": "markdown",
   "id": "8ca01c5b-cd58-4ba8-9d1d-a8fb0476bf39",
   "metadata": {},
   "source": [
    "Problem 4: Library Catalog Create classes representing a library and a book. Implement methods to add books to the library, borrow books, and display available books."
   ]
  },
  {
   "cell_type": "code",
   "execution_count": 7,
   "id": "f5002241-f3c9-42cd-b325-1aab0b59da65",
   "metadata": {},
   "outputs": [
    {
     "name": "stdout",
     "output_type": "stream",
     "text": [
      "Available Books: ['Python Basics', 'Data Structures']\n",
      "Book 'Python Basics' borrowed.\n",
      "Available Books: ['Data Structures']\n"
     ]
    }
   ],
   "source": [
    "class Book:\n",
    "    def __init__(self, title, author):\n",
    "        self.title = title\n",
    "        self.author = author\n",
    "        self.available = True\n",
    "\n",
    "class Library:\n",
    "    def __init__(self):\n",
    "        self.books = []\n",
    "\n",
    "    def add_book(self, book):\n",
    "        self.books.append(book)\n",
    "\n",
    "    def borrow_book(self, title):\n",
    "        for book in self.books:\n",
    "            if book.title == title and book.available:\n",
    "                book.available = False\n",
    "                print(f\"Book '{title}' borrowed.\")\n",
    "                return\n",
    "        print(f\"Book '{title}' not available for borrowing.\")\n",
    "\n",
    "    def display_available_books(self):\n",
    "        available_books = [book.title for book in self.books if book.available]\n",
    "        print(\"Available Books:\", available_books)\n",
    "\n",
    "# Example usage:\n",
    "library = Library()\n",
    "book1 = Book(\"Python Basics\", \"John Smith\")\n",
    "book2 = Book(\"Data Structures\", \"Jane Doe\")\n",
    "library.add_book(book1)\n",
    "library.add_book(book2)\n",
    "library.display_available_books()\n",
    "library.borrow_book(\"Python Basics\")\n",
    "library.display_available_books()\n",
    "\n",
    "        "
   ]
  },
  {
   "cell_type": "markdown",
   "id": "6f0a0378-a189-4776-a570-7e10fa75d0ae",
   "metadata": {},
   "source": [
    "Problem 5: Product Inventory Create classes representing a product and an inventory system. Implement methods to add products to the inventory, update product quantity, and display available products."
   ]
  },
  {
   "cell_type": "code",
   "execution_count": 8,
   "id": "c10b49b7-d3c0-43a5-a343-4a63a68601b2",
   "metadata": {},
   "outputs": [
    {
     "name": "stdout",
     "output_type": "stream",
     "text": [
      "Product: Laptop, Quantity: 10\n",
      "Product: Phone, Quantity: 20\n",
      "Quantity of Laptop updated to 5.\n",
      "Product: Laptop, Quantity: 5\n",
      "Product: Phone, Quantity: 20\n"
     ]
    }
   ],
   "source": [
    "class Product:\n",
    "    def __init__(self, product_id, name, quantity):\n",
    "        self.product_id = product_id\n",
    "        self.name = name\n",
    "        self.quantity = quantity\n",
    "\n",
    "class InventorySystem:\n",
    "    def __init__(self):\n",
    "        self.products = []\n",
    "\n",
    "    def add_product(self, product):\n",
    "        self.products.append(product)\n",
    "\n",
    "    def update_quantity(self, product_id, new_quantity):\n",
    "        for product in self.products:\n",
    "            if product.product_id == product_id:\n",
    "                product.quantity = new_quantity\n",
    "                print(f\"Quantity of {product.name} updated to {new_quantity}.\")\n",
    "                return\n",
    "        print(f\"Product with ID {product_id} not found.\")\n",
    "\n",
    "    def display_available_products(self):\n",
    "        for product in self.products:\n",
    "            print(f\"Product: {product.name}, Quantity: {product.quantity}\")\n",
    "\n",
    "# Example usage:\n",
    "inventory_system = InventorySystem()\n",
    "product1 = Product(1, \"Laptop\", 10)\n",
    "product2 = Product(2, \"Phone\", 20)\n",
    "inventory_system.add_product(product1)\n",
    "inventory_system.add_product(product2)\n",
    "inventory_system.display_available_products()\n",
    "inventory_system.update_quantity(1, 5)\n",
    "inventory_system.display_available_products()\n"
   ]
  },
  {
   "cell_type": "markdown",
   "id": "9db879ad-039a-44a4-85fb-0a368cd03ade",
   "metadata": {},
   "source": [
    "Problem 6: Shape Calculation Create a class representing a shape with attributes like length, width, and height. Implement methods to calculate the area and perimeter of the shape."
   ]
  },
  {
   "cell_type": "code",
   "execution_count": 9,
   "id": "f2b3ced2-f42b-4c16-bbd1-76a7c3940ad6",
   "metadata": {},
   "outputs": [
    {
     "name": "stdout",
     "output_type": "stream",
     "text": [
      "Rectangle Area: 40\n",
      "Rectangle Perimeter: 26\n",
      "Cuboid Area: 108\n",
      "Cuboid Perimeter: 52\n"
     ]
    }
   ],
   "source": [
    "class Shape:\n",
    "    def __init__(self, length, width, height=None):\n",
    "        self.length = length\n",
    "        self.width = width\n",
    "        self.height = height\n",
    "\n",
    "    def calculate_area(self):\n",
    "        if self.height is None:\n",
    "            return self.length * self.width\n",
    "        return 2 * (self.length * self.width + self.width * self.height + self.height * self.length)\n",
    "\n",
    "    def calculate_perimeter(self):\n",
    "        if self.height is None:\n",
    "            return 2 * (self.length + self.width)\n",
    "        return 4 * (self.length + self.width + self.height)\n",
    "\n",
    "# Example usage:\n",
    "rectangle = Shape(5, 8)\n",
    "print(f\"Rectangle Area: {rectangle.calculate_area()}\")\n",
    "print(f\"Rectangle Perimeter: {rectangle.calculate_perimeter()}\")\n",
    "\n",
    "cuboid = Shape(4, 6, 3)\n",
    "print(f\"Cuboid Area: {cuboid.calculate_area()}\")\n",
    "print(f\"Cuboid Perimeter: {cuboid.calculate_perimeter()}\")\n"
   ]
  },
  {
   "cell_type": "markdown",
   "id": "723b8c40-df49-4db7-8344-4f2287378e48",
   "metadata": {},
   "source": [
    "Problem 7: Student Management Create a class representing a student with attributes like student ID, name, and grades. Implement methods to calculate the average grade and display student details."
   ]
  },
  {
   "cell_type": "code",
   "execution_count": 10,
   "id": "b98ceced-4566-4990-98f2-9fc629004d3a",
   "metadata": {},
   "outputs": [
    {
     "name": "stdout",
     "output_type": "stream",
     "text": [
      "Student ID: S123, Name: Alice, Average Grade: 86.25\n"
     ]
    }
   ],
   "source": [
    "class Student:\n",
    "    def __init__(self, student_id, name, grades):\n",
    "        self.student_id = student_id\n",
    "        self.name = name\n",
    "        self.grades = grades\n",
    "\n",
    "    def calculate_average_grade(self):\n",
    "        return sum(self.grades) / len(self.grades)\n",
    "\n",
    "    def display_details(self):\n",
    "        print(f\"Student ID: {self.student_id}, Name: {self.name}, Average Grade: {self.calculate_average_grade()}\")\n",
    "\n",
    "# Example usage:\n",
    "student1 = Student(\"S123\", \"Alice\", [85, 90, 78, 92])\n",
    "student1.display_details()\n"
   ]
  },
  {
   "cell_type": "markdown",
   "id": "360dd6be-c6af-416c-ac22-1348c98017b4",
   "metadata": {},
   "source": [
    "Problem 8: Email Management Create a class representing an email with attributes like sender, recipient, and subject. Implement methods to send an email and display email details."
   ]
  },
  {
   "cell_type": "code",
   "execution_count": 11,
   "id": "a25d3d30-034b-4be6-8e2e-4e202024b93e",
   "metadata": {},
   "outputs": [
    {
     "name": "stdout",
     "output_type": "stream",
     "text": [
      "Email sent from john@example.com to alice@example.com with subject 'Meeting Tomorrow'.\n",
      "Sender: john@example.com, Recipient: alice@example.com, Subject: Meeting Tomorrow\n"
     ]
    }
   ],
   "source": [
    "class Email:\n",
    "    def __init__(self, sender, recipient, subject, content):\n",
    "        self.sender = sender\n",
    "        self.recipient = recipient\n",
    "        self.subject = subject\n",
    "        self.content = content\n",
    "\n",
    "    def send_email(self):\n",
    "        print(f\"Email sent from {self.sender} to {self.recipient} with subject '{self.subject}'.\")\n",
    "\n",
    "    def display_details(self):\n",
    "        print(f\"Sender: {self.sender}, Recipient: {self.recipient}, Subject: {self.subject}\")\n",
    "\n",
    "# Example usage:\n",
    "email1 = Email(\"john@example.com\", \"alice@example.com\", \"Meeting Tomorrow\", \"Let's discuss the project.\")\n",
    "email1.send_email()\n",
    "email1.display_details()\n"
   ]
  },
  {
   "cell_type": "markdown",
   "id": "66a8ddd8-eb33-45a8-8c83-25e6dc7a35c2",
   "metadata": {},
   "source": [
    "Problem 9: Social Media Profile Create a class representing a social media profile with attributes like username and posts. Implement methods to add posts, display posts, and search for posts by keyword."
   ]
  },
  {
   "cell_type": "code",
   "execution_count": 12,
   "id": "96cb3cf8-23b8-48ab-bca6-343366716b69",
   "metadata": {},
   "outputs": [
    {
     "name": "stdout",
     "output_type": "stream",
     "text": [
      "Excited for the weekend!\n",
      "Just finished a great book.\n",
      "Posts containing 'weekend': ['Excited for the weekend!']\n"
     ]
    }
   ],
   "source": [
    "class SocialMediaProfile:\n",
    "    def __init__(self, username):\n",
    "        self.username = username\n",
    "        self.posts = []\n",
    "\n",
    "    def add_post(self, post):\n",
    "        self.posts.append(post)\n",
    "\n",
    "    def display_posts(self):\n",
    "        for post in self.posts:\n",
    "            print(post)\n",
    "\n",
    "    def search_posts(self, keyword):\n",
    "        matching_posts = [post for post in self.posts if keyword in post]\n",
    "        print(f\"Posts containing '{keyword}': {matching_posts}\")\n",
    "\n",
    "# Example usage:\n",
    "profile = SocialMediaProfile(\"john_doe\")\n",
    "profile.add_post(\"Excited for the weekend!\")\n",
    "profile.add_post(\"Just finished a great book.\")\n",
    "profile.display_posts()\n",
    "profile.search_posts(\"weekend\")\n"
   ]
  },
  {
   "cell_type": "markdown",
   "id": "7e3f8d7d-82ec-4ba5-9a05-da9829ffb4ed",
   "metadata": {},
   "source": [
    "Problem 10: ToDo List Create a class representing a ToDo list with attributes like tasks and due dates. Implement methods to add tasks, mark tasks as completed, and display pending tasks."
   ]
  },
  {
   "cell_type": "code",
   "execution_count": 13,
   "id": "bec08a0f-776f-4294-93ab-9a2fa2bc47a2",
   "metadata": {},
   "outputs": [
    {
     "name": "stdout",
     "output_type": "stream",
     "text": [
      "Pending Tasks: ['Write report', 'Exercise']\n",
      "Task 'Exercise' marked as completed.\n",
      "Pending Tasks: ['Write report']\n"
     ]
    }
   ],
   "source": [
    "class ToDoList:\n",
    "    def __init__(self):\n",
    "        self.tasks = []\n",
    "\n",
    "    def add_task(self, task):\n",
    "        self.tasks.append(task)\n",
    "\n",
    "    def mark_as_completed(self, task):\n",
    "        if task in self.tasks:\n",
    "            self.tasks.remove(task)\n",
    "            print(f\"Task '{task}' marked as completed.\")\n",
    "        else:\n",
    "            print(f\"Task '{task}' not found in the ToDo list.\")\n",
    "\n",
    "    def display_pending_tasks(self):\n",
    "        print(\"Pending Tasks:\", self.tasks)\n",
    "\n",
    "# Example usage:\n",
    "todo_list = ToDoList()\n",
    "todo_list.add_task(\"Write report\")\n",
    "todo_list.add_task(\"Exercise\")\n",
    "todo_list.display_pending_tasks()\n",
    "todo_list.mark_as_completed(\"Exercise\")\n",
    "todo_list.display_pending_tasks()\n"
   ]
  },
  {
   "cell_type": "code",
   "execution_count": null,
   "id": "c0c708d6-e09e-46bd-8bf1-9ee51f092d3b",
   "metadata": {},
   "outputs": [],
   "source": []
  }
 ],
 "metadata": {
  "kernelspec": {
   "display_name": "Python 3 (ipykernel)",
   "language": "python",
   "name": "python3"
  },
  "language_info": {
   "codemirror_mode": {
    "name": "ipython",
    "version": 3
   },
   "file_extension": ".py",
   "mimetype": "text/x-python",
   "name": "python",
   "nbconvert_exporter": "python",
   "pygments_lexer": "ipython3",
   "version": "3.10.8"
  }
 },
 "nbformat": 4,
 "nbformat_minor": 5
}
